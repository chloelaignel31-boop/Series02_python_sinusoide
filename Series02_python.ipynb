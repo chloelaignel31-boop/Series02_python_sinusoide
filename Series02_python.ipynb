{
 "cells": [
  {
   "cell_type": "markdown",
   "metadata": {},
   "source": [
    "# IEAP-python-series02: Sinusoids, from math to code"
   ]
  },
  {
   "cell_type": "markdown",
   "metadata": {},
   "source": [
    "## Objective\n",
    "The goal of this series is to start coding something useful, from theory to code.\n",
    "The preliminary step was a homework to make clear the theory and concepts relative to sine waves and their properties."
   ]
  }
 ],
 "metadata": {
  "language_info": {
   "name": "python"
  }
 },
 "nbformat": 4,
 "nbformat_minor": 2
}
